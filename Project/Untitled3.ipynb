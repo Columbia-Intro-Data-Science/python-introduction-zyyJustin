{
 "cells": [
  {
   "cell_type": "code",
   "execution_count": null,
   "metadata": {
    "collapsed": true
   },
   "outputs": [],
   "source": [
    "from flask import Flask, render_template, request\n",
    "app = flask(__name__)\n",
    "\n",
    "@app.route('/send', methods=['GET', 'POST'])\n",
    "def send():\n",
    "    if request.method == 'POST':\n",
    "        cap_shape = request.form['cap-shape']\n",
    "        return render_template('capshape.html', cap_shape=cap_shape)\n",
    "    return render_template('test_index.html')\n",
    "\n",
    "if __name__ == '__maim__':\n",
    "    app.run()\n"
   ]
  }
 ],
 "metadata": {
  "kernelspec": {
   "display_name": "Python 3",
   "language": "python",
   "name": "python3"
  },
  "language_info": {
   "codemirror_mode": {
    "name": "ipython",
    "version": 3
   },
   "file_extension": ".py",
   "mimetype": "text/x-python",
   "name": "python",
   "nbconvert_exporter": "python",
   "pygments_lexer": "ipython3",
   "version": "3.6.0"
  }
 },
 "nbformat": 4,
 "nbformat_minor": 2
}
