{
 "cells": [
  {
   "cell_type": "code",
   "execution_count": null,
   "metadata": {
    "collapsed": true
   },
   "outputs": [],
   "source": [
    "from flask import Flask\n",
    "from flask import request\n",
    "from flask import render_template\n",
    "\n",
    "app = Flask(__name__)\n",
    "\n",
    "@app.route('/')\n",
    "def mushroom():\n",
    "    return render_template(\"Mushroom.html\")\n",
    "\n",
    "@app.route('/', methods=['POST'])\n",
    "def mushroom_post():\n",
    "    print('=====')\n",
    "    cap_shape = request.form['cap-shape']\n",
    "    cap_color = request.form['cap-color']\n",
    "    cap_surface = request.form['cap-surface']\n",
    "    bruises = request.form['bruises']\n",
    "    odor = request.form['odor']\n",
    "    gill_attachment = request.form['gill-attachment']\n",
    "    gill_spacing = request.form['gill-spacing']\n",
    "    gill_size = request.form['gill-size']\n",
    "    gill_color = request.form['gill-color']\n",
    "    stalk_shape = request.form['stalk-shape']\n",
    "    stalk_root = request.form['stalk-root']\n",
    "    stalk_surface_above_ring = request.form['stalk-surface-above-ring']\n",
    "    stalk_surface_below_ring = request.form['stalk-surface-below-ring']\n",
    "    stalk_color_above_ring = request.form['stalk-color-above-ring']\n",
    "    stalk_color_below_ring = request.form['stalk-color-below-ring']\n",
    "    veil_type = request.form['veil-type']\n",
    "    veil_color = request.form['veil-color']\n",
    "    ring_number = request.form['ring-number']\n",
    "    ring_type = request.form['ring-type']\n",
    "    spore_print_color = request.form['spore-print-color']\n",
    "    population = request.form['population']\n",
    "    habitat = request.form['habitat']\n",
    "    \n",
    "    #input = [cap_shape, cap_color, cap_surface, bruises, odor , gill_attachment, gill_spacing, gill_size, gill_color, stalk_shape,\n",
    "     #        stalk_root, stalk_surface_above_ring, stalk_surface_below_ring, stalk_color_above_ring ,stalk_color_below_ring,\n",
    "    #        veil_color, ring_number, ring_type ,spore_print_color, population, habitat]\n",
    "    \n",
    "    #pickle_in = open('decisiontree.pickle','rb')\n",
    "    #clf = pickle.load(pickle_in)\n",
    "    #clf.predict(input)\n",
    "    print('=====')\n",
    "    return odor\n",
    "\n",
    "if __name__ == '__main__':\n",
    "    app.debug = True\n",
    "    app.run()"
   ]
  }
 ],
 "metadata": {
  "kernelspec": {
   "display_name": "Python 3",
   "language": "python",
   "name": "python3"
  },
  "language_info": {
   "codemirror_mode": {
    "name": "ipython",
    "version": 3
   },
   "file_extension": ".py",
   "mimetype": "text/x-python",
   "name": "python",
   "nbconvert_exporter": "python",
   "pygments_lexer": "ipython3",
   "version": "3.6.0"
  }
 },
 "nbformat": 4,
 "nbformat_minor": 2
}
